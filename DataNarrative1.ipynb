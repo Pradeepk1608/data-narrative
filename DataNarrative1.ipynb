{
 "cells": [
  {
   "cell_type": "code",
   "execution_count": 64,
   "metadata": {},
   "outputs": [],
   "source": [
    "%matplotlib inline\n",
    "import numpy as np\n",
    "import pandas as pd\n",
    "from matplotlib import pyplot as plt\n",
    "\n",
    "r = pd.read_csv( 'ratings.csv')\n",
    "tr = pd.read_csv( 'to_read.csv' )\n",
    "b = pd.read_csv( 'books.csv' )\n",
    "\n",
    "t = pd.read_csv( 'tags.csv' )\n",
    "bt = pd.read_csv( 'book_tags.csv')\n"
   ]
  },
  {
   "attachments": {},
   "cell_type": "markdown",
   "metadata": {},
   "source": [
    "# Average Ratings"
   ]
  },
  {
   "attachments": {},
   "cell_type": "markdown",
   "metadata": {},
   "source": [
    "Question 1: How many people given ratings?"
   ]
  },
  {
   "cell_type": "code",
   "execution_count": 65,
   "metadata": {},
   "outputs": [
    {
     "data": {
      "text/plain": [
       "53424"
      ]
     },
     "execution_count": 65,
     "metadata": {},
     "output_type": "execute_result"
    }
   ],
   "source": [
    "# Since every user have unique id, so we can calculate the unique user_id's from the dataframe and the unique user_id's are the number \n",
    "# of total people gives rating.\n",
    "len(r.user_id.unique())"
   ]
  },
  {
   "attachments": {},
   "cell_type": "markdown",
   "metadata": {},
   "source": [
    "Hypothesis:\tIf we randomly choose a book, the probability that a book has an average rating of 4 is greater than the probability book whose average rating is 3."
   ]
  },
  {
   "cell_type": "code",
   "execution_count": 66,
   "metadata": {},
   "outputs": [
    {
     "name": "stdout",
     "output_type": "stream",
     "text": [
      "The probability of selecting a book with an average rating of 4 is greater than the probability of selecting a book with an average rating of 3.\n"
     ]
    }
   ],
   "source": [
    "# calculate the total number of unique books\n",
    "Total_books = len(b.book_id.unique())\n",
    "\n",
    "# count the number of books with average rating 4 and 3\n",
    "books_avg_rating_4 = len(b[b[\"average_rating\"] == 4.0])\n",
    "books_avg_rating_3 = len(b[b[\"average_rating\"] == 3.0])\n",
    "\n",
    "# calculate the probabilities of selecting a book with average rating 4 and 3\n",
    "probability_of_avg_rating_4 = books_avg_rating_4 / Total_books\n",
    "probability_of_avg_rating_3 = books_avg_rating_3 / Total_books\n",
    "\n",
    "# compare the probabilities and print the results\n",
    "if probability_of_avg_rating_4 > probability_of_avg_rating_3:\n",
    "    print(\"The probability of selecting a book with an average rating of 4 is greater than the probability of selecting a book with an average rating of 3.\")\n",
    "else:\n",
    "    print(\"The probability of selecting a book with an average rating of 3 is greater than or equal to the probability of selecting a book with an average rating of 4.\")\n",
    "    print(\"Hypothesis is True\")\n"
   ]
  },
  {
   "attachments": {},
   "cell_type": "markdown",
   "metadata": {},
   "source": [
    "Que 2: Find the probability of getting a book whose average_rating is greater then 4?"
   ]
  },
  {
   "attachments": {},
   "cell_type": "markdown",
   "metadata": {},
   "source": [
    "Question 3: rating plot?"
   ]
  },
  {
   "attachments": {},
   "cell_type": "markdown",
   "metadata": {},
   "source": [
    "# to_read"
   ]
  },
  {
   "cell_type": "code",
   "execution_count": 67,
   "metadata": {},
   "outputs": [
    {
     "name": "stdout",
     "output_type": "stream",
     "text": [
      "912705\n"
     ]
    },
    {
     "data": {
      "text/html": [
       "<div>\n",
       "<style scoped>\n",
       "    .dataframe tbody tr th:only-of-type {\n",
       "        vertical-align: middle;\n",
       "    }\n",
       "\n",
       "    .dataframe tbody tr th {\n",
       "        vertical-align: top;\n",
       "    }\n",
       "\n",
       "    .dataframe thead th {\n",
       "        text-align: right;\n",
       "    }\n",
       "</style>\n",
       "<table border=\"1\" class=\"dataframe\">\n",
       "  <thead>\n",
       "    <tr style=\"text-align: right;\">\n",
       "      <th></th>\n",
       "      <th>user_id</th>\n",
       "      <th>book_id</th>\n",
       "    </tr>\n",
       "  </thead>\n",
       "  <tbody>\n",
       "    <tr>\n",
       "      <th>0</th>\n",
       "      <td>9</td>\n",
       "      <td>8</td>\n",
       "    </tr>\n",
       "    <tr>\n",
       "      <th>1</th>\n",
       "      <td>15</td>\n",
       "      <td>398</td>\n",
       "    </tr>\n",
       "    <tr>\n",
       "      <th>2</th>\n",
       "      <td>15</td>\n",
       "      <td>275</td>\n",
       "    </tr>\n",
       "    <tr>\n",
       "      <th>3</th>\n",
       "      <td>37</td>\n",
       "      <td>7173</td>\n",
       "    </tr>\n",
       "    <tr>\n",
       "      <th>4</th>\n",
       "      <td>34</td>\n",
       "      <td>380</td>\n",
       "    </tr>\n",
       "    <tr>\n",
       "      <th>...</th>\n",
       "      <td>...</td>\n",
       "      <td>...</td>\n",
       "    </tr>\n",
       "    <tr>\n",
       "      <th>912700</th>\n",
       "      <td>39374</td>\n",
       "      <td>1049</td>\n",
       "    </tr>\n",
       "    <tr>\n",
       "      <th>912701</th>\n",
       "      <td>10492</td>\n",
       "      <td>5180</td>\n",
       "    </tr>\n",
       "    <tr>\n",
       "      <th>912702</th>\n",
       "      <td>21879</td>\n",
       "      <td>4827</td>\n",
       "    </tr>\n",
       "    <tr>\n",
       "      <th>912703</th>\n",
       "      <td>21879</td>\n",
       "      <td>6642</td>\n",
       "    </tr>\n",
       "    <tr>\n",
       "      <th>912704</th>\n",
       "      <td>48192</td>\n",
       "      <td>7773</td>\n",
       "    </tr>\n",
       "  </tbody>\n",
       "</table>\n",
       "<p>912705 rows × 2 columns</p>\n",
       "</div>"
      ],
      "text/plain": [
       "        user_id  book_id\n",
       "0             9        8\n",
       "1            15      398\n",
       "2            15      275\n",
       "3            37     7173\n",
       "4            34      380\n",
       "...         ...      ...\n",
       "912700    39374     1049\n",
       "912701    10492     5180\n",
       "912702    21879     4827\n",
       "912703    21879     6642\n",
       "912704    48192     7773\n",
       "\n",
       "[912705 rows x 2 columns]"
      ]
     },
     "execution_count": 67,
     "metadata": {},
     "output_type": "execute_result"
    }
   ],
   "source": [
    "print(len(tr))\n",
    "tr"
   ]
  },
  {
   "attachments": {},
   "cell_type": "markdown",
   "metadata": {},
   "source": [
    "Question 3: Find those 10 books, which most of the people wants to read? "
   ]
  },
  {
   "cell_type": "code",
   "execution_count": 68,
   "metadata": {},
   "outputs": [
    {
     "data": {
      "image/png": "[encoded data removed]",
      "text/plain": [
       "<Figure size 640x480 with 1 Axes>"
      ]
     },
     "metadata": {},
     "output_type": "display_data"
    }
   ],
   "source": [
    "\n",
    "h = ((tr[\"book_id\"]).value_counts()).nlargest(10).to_frame()\n",
    "X = list(map(str, h.index))\n",
    "\n",
    "Y = []\n",
    "for i in h.index:\n",
    "    Y.append(h[\"book_id\"][i])\n",
    "\n",
    "plt.bar(X, Y)\n",
    "plt.xlabel(\"book_id\")\n",
    "plt.ylabel(\"Number of people wants to read that book\")\n",
    "\n",
    "plt.show()"
   ]
  },
  {
   "attachments": {},
   "cell_type": "markdown",
   "metadata": {},
   "source": [
    "So by looking the above plot we can check that how many people wants to read the most common books."
   ]
  },
  {
   "attachments": {},
   "cell_type": "markdown",
   "metadata": {},
   "source": [
    "Question 3(a): And how many people wants to read the most common book, which is number of occurances of the book_id of the most occured book in the book_id column ?"
   ]
  },
  {
   "cell_type": "code",
   "execution_count": 69,
   "metadata": {},
   "outputs": [
    {
     "name": "stdout",
     "output_type": "stream",
     "text": [
      "2772 people wants to read the book with book_id 47\n"
     ]
    }
   ],
   "source": [
    "print(h[\"book_id\"][47], \"people wants to read the book with book_id\", h.idxmax()[0])"
   ]
  },
  {
   "attachments": {},
   "cell_type": "markdown",
   "metadata": {},
   "source": [
    "# Books"
   ]
  },
  {
   "cell_type": "code",
   "execution_count": 70,
   "metadata": {},
   "outputs": [
    {
     "data": {
      "text/html": [
       "<div>\n",
       "<style scoped>\n",
       "    .dataframe tbody tr th:only-of-type {\n",
       "        vertical-align: middle;\n",
       "    }\n",
       "\n",
       "    .dataframe tbody tr th {\n",
       "        vertical-align: top;\n",
       "    }\n",
       "\n",
       "    .dataframe thead th {\n",
       "        text-align: right;\n",
       "    }\n",
       "</style>\n",
       "<table border=\"1\" class=\"dataframe\">\n",
       "  <thead>\n",
       "    <tr style=\"text-align: right;\">\n",
       "      <th></th>\n",
       "      <th>book_id</th>\n",
       "      <th>goodreads_book_id</th>\n",
       "      <th>best_book_id</th>\n",
       "      <th>work_id</th>\n",
       "      <th>books_count</th>\n",
       "      <th>isbn</th>\n",
       "      <th>isbn13</th>\n",
       "      <th>authors</th>\n",
       "      <th>original_publication_year</th>\n",
       "      <th>original_title</th>\n",
       "      <th>...</th>\n",
       "      <th>ratings_count</th>\n",
       "      <th>work_ratings_count</th>\n",
       "      <th>work_text_reviews_count</th>\n",
       "      <th>ratings_1</th>\n",
       "      <th>ratings_2</th>\n",
       "      <th>ratings_3</th>\n",
       "      <th>ratings_4</th>\n",
       "      <th>ratings_5</th>\n",
       "      <th>image_url</th>\n",
       "      <th>small_image_url</th>\n",
       "    </tr>\n",
       "  </thead>\n",
       "  <tbody>\n",
       "    <tr>\n",
       "      <th>0</th>\n",
       "      <td>1</td>\n",
       "      <td>2767052</td>\n",
       "      <td>2767052</td>\n",
       "      <td>2792775</td>\n",
       "      <td>272</td>\n",
       "      <td>439023483</td>\n",
       "      <td>9.780439e+12</td>\n",
       "      <td>Suzanne Collins</td>\n",
       "      <td>2008.0</td>\n",
       "      <td>The Hunger Games</td>\n",
       "      <td>...</td>\n",
       "      <td>4780653</td>\n",
       "      <td>4942365</td>\n",
       "      <td>155254</td>\n",
       "      <td>66715</td>\n",
       "      <td>127936</td>\n",
       "      <td>560092</td>\n",
       "      <td>1481305</td>\n",
       "      <td>2706317</td>\n",
       "      <td>https://images.gr-assets.com/books/1447303603m...</td>\n",
       "      <td>https://images.gr-assets.com/books/1447303603s...</td>\n",
       "    </tr>\n",
       "    <tr>\n",
       "      <th>1</th>\n",
       "      <td>2</td>\n",
       "      <td>3</td>\n",
       "      <td>3</td>\n",
       "      <td>4640799</td>\n",
       "      <td>491</td>\n",
       "      <td>439554934</td>\n",
       "      <td>9.780440e+12</td>\n",
       "      <td>J.K. Rowling, Mary GrandPré</td>\n",
       "      <td>1997.0</td>\n",
       "      <td>Harry Potter and the Philosopher's Stone</td>\n",
       "      <td>...</td>\n",
       "      <td>4602479</td>\n",
       "      <td>4800065</td>\n",
       "      <td>75867</td>\n",
       "      <td>75504</td>\n",
       "      <td>101676</td>\n",
       "      <td>455024</td>\n",
       "      <td>1156318</td>\n",
       "      <td>3011543</td>\n",
       "      <td>https://images.gr-assets.com/books/1474154022m...</td>\n",
       "      <td>https://images.gr-assets.com/books/1474154022s...</td>\n",
       "    </tr>\n",
       "    <tr>\n",
       "      <th>2</th>\n",
       "      <td>3</td>\n",
       "      <td>41865</td>\n",
       "      <td>41865</td>\n",
       "      <td>3212258</td>\n",
       "      <td>226</td>\n",
       "      <td>316015849</td>\n",
       "      <td>9.780316e+12</td>\n",
       "      <td>Stephenie Meyer</td>\n",
       "      <td>2005.0</td>\n",
       "      <td>Twilight</td>\n",
       "      <td>...</td>\n",
       "      <td>3866839</td>\n",
       "      <td>3916824</td>\n",
       "      <td>95009</td>\n",
       "      <td>456191</td>\n",
       "      <td>436802</td>\n",
       "      <td>793319</td>\n",
       "      <td>875073</td>\n",
       "      <td>1355439</td>\n",
       "      <td>https://images.gr-assets.com/books/1361039443m...</td>\n",
       "      <td>https://images.gr-assets.com/books/1361039443s...</td>\n",
       "    </tr>\n",
       "    <tr>\n",
       "      <th>3</th>\n",
       "      <td>4</td>\n",
       "      <td>2657</td>\n",
       "      <td>2657</td>\n",
       "      <td>3275794</td>\n",
       "      <td>487</td>\n",
       "      <td>61120081</td>\n",
       "      <td>9.780061e+12</td>\n",
       "      <td>Harper Lee</td>\n",
       "      <td>1960.0</td>\n",
       "      <td>To Kill a Mockingbird</td>\n",
       "      <td>...</td>\n",
       "      <td>3198671</td>\n",
       "      <td>3340896</td>\n",
       "      <td>72586</td>\n",
       "      <td>60427</td>\n",
       "      <td>117415</td>\n",
       "      <td>446835</td>\n",
       "      <td>1001952</td>\n",
       "      <td>1714267</td>\n",
       "      <td>https://images.gr-assets.com/books/1361975680m...</td>\n",
       "      <td>https://images.gr-assets.com/books/1361975680s...</td>\n",
       "    </tr>\n",
       "    <tr>\n",
       "      <th>4</th>\n",
       "      <td>5</td>\n",
       "      <td>4671</td>\n",
       "      <td>4671</td>\n",
       "      <td>245494</td>\n",
       "      <td>1356</td>\n",
       "      <td>743273567</td>\n",
       "      <td>9.780743e+12</td>\n",
       "      <td>F. Scott Fitzgerald</td>\n",
       "      <td>1925.0</td>\n",
       "      <td>The Great Gatsby</td>\n",
       "      <td>...</td>\n",
       "      <td>2683664</td>\n",
       "      <td>2773745</td>\n",
       "      <td>51992</td>\n",
       "      <td>86236</td>\n",
       "      <td>197621</td>\n",
       "      <td>606158</td>\n",
       "      <td>936012</td>\n",
       "      <td>947718</td>\n",
       "      <td>https://images.gr-assets.com/books/1490528560m...</td>\n",
       "      <td>https://images.gr-assets.com/books/1490528560s...</td>\n",
       "    </tr>\n",
       "  </tbody>\n",
       "</table>\n",
       "<p>5 rows × 23 columns</p>\n",
       "</div>"
      ],
      "text/plain": [
       "   book_id  goodreads_book_id  best_book_id  work_id  books_count       isbn  \\\n",
       "0        1            2767052       2767052  2792775          272  439023483   \n",
       "1        2                  3             3  4640799          491  439554934   \n",
       "2        3              41865         41865  3212258          226  316015849   \n",
       "3        4               2657          2657  3275794          487   61120081   \n",
       "4        5               4671          4671   245494         1356  743273567   \n",
       "\n",
       "         isbn13                      authors  original_publication_year  \\\n",
       "0  9.780439e+12              Suzanne Collins                     2008.0   \n",
       "1  9.780440e+12  J.K. Rowling, Mary GrandPré                     1997.0   \n",
       "2  9.780316e+12              Stephenie Meyer                     2005.0   \n",
       "3  9.780061e+12                   Harper Lee                     1960.0   \n",
       "4  9.780743e+12          F. Scott Fitzgerald                     1925.0   \n",
       "\n",
       "                             original_title  ... ratings_count  \\\n",
       "0                          The Hunger Games  ...       4780653   \n",
       "1  Harry Potter and the Philosopher's Stone  ...       4602479   \n",
       "2                                  Twilight  ...       3866839   \n",
       "3                     To Kill a Mockingbird  ...       3198671   \n",
       "4                          The Great Gatsby  ...       2683664   \n",
       "\n",
       "  work_ratings_count  work_text_reviews_count  ratings_1  ratings_2  \\\n",
       "0            4942365                   155254      66715     127936   \n",
       "1            4800065                    75867      75504     101676   \n",
       "2            3916824                    95009     456191     436802   \n",
       "3            3340896                    72586      60427     117415   \n",
       "4            2773745                    51992      86236     197621   \n",
       "\n",
       "   ratings_3  ratings_4  ratings_5  \\\n",
       "0     560092    1481305    2706317   \n",
       "1     455024    1156318    3011543   \n",
       "2     793319     875073    1355439   \n",
       "3     446835    1001952    1714267   \n",
       "4     606158     936012     947718   \n",
       "\n",
       "                                           image_url  \\\n",
       "0  https://images.gr-assets.com/books/1447303603m...   \n",
       "1  https://images.gr-assets.com/books/1474154022m...   \n",
       "2  https://images.gr-assets.com/books/1361039443m...   \n",
       "3  https://images.gr-assets.com/books/1361975680m...   \n",
       "4  https://images.gr-assets.com/books/1490528560m...   \n",
       "\n",
       "                                     small_image_url  \n",
       "0  https://images.gr-assets.com/books/1447303603s...  \n",
       "1  https://images.gr-assets.com/books/1474154022s...  \n",
       "2  https://images.gr-assets.com/books/1361039443s...  \n",
       "3  https://images.gr-assets.com/books/1361975680s...  \n",
       "4  https://images.gr-assets.com/books/1490528560s...  \n",
       "\n",
       "[5 rows x 23 columns]"
      ]
     },
     "execution_count": 70,
     "metadata": {},
     "output_type": "execute_result"
    }
   ],
   "source": [
    "b.head()"
   ]
  },
  {
   "attachments": {},
   "cell_type": "markdown",
   "metadata": {},
   "source": [
    "Que 4: Plot Bar graph of top 5 authors?\n"
   ]
  },
  {
   "cell_type": "code",
   "execution_count": 71,
   "metadata": {},
   "outputs": [
    {
     "data": {
      "text/plain": [
       "<BarContainer object of 5 artists>"
      ]
     },
     "execution_count": 71,
     "metadata": {},
     "output_type": "execute_result"
    },
    {
     "data": {
      "image/png": "[encoded data removed]",
      "text/plain": [
       "<Figure size 640x480 with 1 Axes>"
      ]
     },
     "metadata": {},
     "output_type": "display_data"
    }
   ],
   "source": [
    "author_occurances = b[\"authors\"].value_counts().nlargest(5)\n",
    "df = pd.DataFrame(author_occurances)\n",
    "df.index\n",
    "occ = []\n",
    "\n",
    "for i in range(len(df[\"authors\"])):\n",
    "    occ.append((df[\"authors\"][i]))\n",
    "occ\n",
    "plt.bar(df.index,  occ)\n"
   ]
  },
  {
   "attachments": {},
   "cell_type": "markdown",
   "metadata": {},
   "source": [
    "Que 5: The user wants to search books by the author name? Printonly the data of those books whose author name is entered by the user?\n"
   ]
  },
  {
   "cell_type": "code",
   "execution_count": 72,
   "metadata": {},
   "outputs": [
    {
     "data": {
      "text/html": [
       "<div>\n",
       "<style scoped>\n",
       "    .dataframe tbody tr th:only-of-type {\n",
       "        vertical-align: middle;\n",
       "    }\n",
       "\n",
       "    .dataframe tbody tr th {\n",
       "        vertical-align: top;\n",
       "    }\n",
       "\n",
       "    .dataframe thead th {\n",
       "        text-align: right;\n",
       "    }\n",
       "</style>\n",
       "<table border=\"1\" class=\"dataframe\">\n",
       "  <thead>\n",
       "    <tr style=\"text-align: right;\">\n",
       "      <th></th>\n",
       "      <th>book_id</th>\n",
       "      <th>goodreads_book_id</th>\n",
       "      <th>best_book_id</th>\n",
       "      <th>work_id</th>\n",
       "      <th>books_count</th>\n",
       "      <th>isbn</th>\n",
       "      <th>isbn13</th>\n",
       "      <th>authors</th>\n",
       "      <th>original_publication_year</th>\n",
       "      <th>original_title</th>\n",
       "      <th>...</th>\n",
       "      <th>ratings_count</th>\n",
       "      <th>work_ratings_count</th>\n",
       "      <th>work_text_reviews_count</th>\n",
       "      <th>ratings_1</th>\n",
       "      <th>ratings_2</th>\n",
       "      <th>ratings_3</th>\n",
       "      <th>ratings_4</th>\n",
       "      <th>ratings_5</th>\n",
       "      <th>image_url</th>\n",
       "      <th>small_image_url</th>\n",
       "    </tr>\n",
       "  </thead>\n",
       "  <tbody>\n",
       "    <tr>\n",
       "      <th>0</th>\n",
       "      <td>342</td>\n",
       "      <td>13497818</td>\n",
       "      <td>13497818</td>\n",
       "      <td>19926990</td>\n",
       "      <td>139</td>\n",
       "      <td>316228532</td>\n",
       "      <td>9780316228530.0</td>\n",
       "      <td>J.K. Rowling</td>\n",
       "      <td>2012.0</td>\n",
       "      <td>The Casual Vacancy</td>\n",
       "      <td>...</td>\n",
       "      <td>231835</td>\n",
       "      <td>254461</td>\n",
       "      <td>28751</td>\n",
       "      <td>24583</td>\n",
       "      <td>38326</td>\n",
       "      <td>74611</td>\n",
       "      <td>75741</td>\n",
       "      <td>41200</td>\n",
       "      <td>https://images.gr-assets.com/books/1358266832m...</td>\n",
       "      <td>https://images.gr-assets.com/books/1358266832s...</td>\n",
       "    </tr>\n",
       "    <tr>\n",
       "      <th>1</th>\n",
       "      <td>399</td>\n",
       "      <td>3950967</td>\n",
       "      <td>3950967</td>\n",
       "      <td>3007490</td>\n",
       "      <td>131</td>\n",
       "      <td>747599874</td>\n",
       "      <td>9780747599880.0</td>\n",
       "      <td>J.K. Rowling</td>\n",
       "      <td>2007.0</td>\n",
       "      <td>The Tales of Beedle the Bard</td>\n",
       "      <td>...</td>\n",
       "      <td>284833</td>\n",
       "      <td>319107</td>\n",
       "      <td>11330</td>\n",
       "      <td>3019</td>\n",
       "      <td>15025</td>\n",
       "      <td>69367</td>\n",
       "      <td>103350</td>\n",
       "      <td>128346</td>\n",
       "      <td>https://images.gr-assets.com/books/1373467575m...</td>\n",
       "      <td>https://images.gr-assets.com/books/1373467575s...</td>\n",
       "    </tr>\n",
       "    <tr>\n",
       "      <th>2</th>\n",
       "      <td>422</td>\n",
       "      <td>862041</td>\n",
       "      <td>862041</td>\n",
       "      <td>2962492</td>\n",
       "      <td>76</td>\n",
       "      <td>545044251</td>\n",
       "      <td>9780545044260.0</td>\n",
       "      <td>J.K. Rowling</td>\n",
       "      <td>1998.0</td>\n",
       "      <td>Complete Harry Potter Boxed Set</td>\n",
       "      <td>...</td>\n",
       "      <td>190050</td>\n",
       "      <td>204125</td>\n",
       "      <td>6508</td>\n",
       "      <td>1105</td>\n",
       "      <td>1285</td>\n",
       "      <td>7020</td>\n",
       "      <td>30666</td>\n",
       "      <td>164049</td>\n",
       "      <td>https://images.gr-assets.com/books/1392579059m...</td>\n",
       "      <td>https://images.gr-assets.com/books/1392579059s...</td>\n",
       "    </tr>\n",
       "    <tr>\n",
       "      <th>3</th>\n",
       "      <td>3753</td>\n",
       "      <td>10</td>\n",
       "      <td>10</td>\n",
       "      <td>21457570</td>\n",
       "      <td>6</td>\n",
       "      <td>439827604</td>\n",
       "      <td>9780439827610.0</td>\n",
       "      <td>J.K. Rowling</td>\n",
       "      <td>2005.0</td>\n",
       "      <td>Harry Potter Collection (Harry Potter, #1-6)</td>\n",
       "      <td>...</td>\n",
       "      <td>24618</td>\n",
       "      <td>26274</td>\n",
       "      <td>882</td>\n",
       "      <td>203</td>\n",
       "      <td>186</td>\n",
       "      <td>946</td>\n",
       "      <td>3891</td>\n",
       "      <td>21048</td>\n",
       "      <td>https://images.gr-assets.com/books/1328867351m...</td>\n",
       "      <td>https://images.gr-assets.com/books/1328867351s...</td>\n",
       "    </tr>\n",
       "    <tr>\n",
       "      <th>4</th>\n",
       "      <td>4641</td>\n",
       "      <td>30065028</td>\n",
       "      <td>29363501</td>\n",
       "      <td>50435175</td>\n",
       "      <td>49</td>\n",
       "      <td>NaN</td>\n",
       "      <td>NaN</td>\n",
       "      <td>J.K. Rowling</td>\n",
       "      <td>2016.0</td>\n",
       "      <td>Fantastic Beasts and Where to Find Them: The O...</td>\n",
       "      <td>...</td>\n",
       "      <td>18290</td>\n",
       "      <td>42210</td>\n",
       "      <td>4692</td>\n",
       "      <td>323</td>\n",
       "      <td>721</td>\n",
       "      <td>4257</td>\n",
       "      <td>13024</td>\n",
       "      <td>23885</td>\n",
       "      <td>https://images.gr-assets.com/books/1476913365m...</td>\n",
       "      <td>https://images.gr-assets.com/books/1476913365s...</td>\n",
       "    </tr>\n",
       "    <tr>\n",
       "      <th>5</th>\n",
       "      <td>6141</td>\n",
       "      <td>1317181</td>\n",
       "      <td>1317181</td>\n",
       "      <td>19079807</td>\n",
       "      <td>8</td>\n",
       "      <td>185549664X</td>\n",
       "      <td>9781855496640.0</td>\n",
       "      <td>J.K. Rowling</td>\n",
       "      <td>2003.0</td>\n",
       "      <td>NaN</td>\n",
       "      <td>...</td>\n",
       "      <td>16249</td>\n",
       "      <td>16350</td>\n",
       "      <td>272</td>\n",
       "      <td>114</td>\n",
       "      <td>199</td>\n",
       "      <td>1182</td>\n",
       "      <td>3744</td>\n",
       "      <td>11111</td>\n",
       "      <td>https://s.gr-assets.com/assets/nophoto/book/11...</td>\n",
       "      <td>https://s.gr-assets.com/assets/nophoto/book/50...</td>\n",
       "    </tr>\n",
       "    <tr>\n",
       "      <th>6</th>\n",
       "      <td>7523</td>\n",
       "      <td>31538647</td>\n",
       "      <td>31538647</td>\n",
       "      <td>52218770</td>\n",
       "      <td>18</td>\n",
       "      <td>NaN</td>\n",
       "      <td>NaN</td>\n",
       "      <td>J.K. Rowling</td>\n",
       "      <td>2016.0</td>\n",
       "      <td>Hogwarts: An Incomplete and Unreliable Guide</td>\n",
       "      <td>...</td>\n",
       "      <td>14977</td>\n",
       "      <td>15844</td>\n",
       "      <td>1339</td>\n",
       "      <td>63</td>\n",
       "      <td>346</td>\n",
       "      <td>2806</td>\n",
       "      <td>5543</td>\n",
       "      <td>7086</td>\n",
       "      <td>https://images.gr-assets.com/books/1502156557m...</td>\n",
       "      <td>https://images.gr-assets.com/books/1502156557s...</td>\n",
       "    </tr>\n",
       "    <tr>\n",
       "      <th>7</th>\n",
       "      <td>9048</td>\n",
       "      <td>2002</td>\n",
       "      <td>2002</td>\n",
       "      <td>8621948</td>\n",
       "      <td>5</td>\n",
       "      <td>043932162X</td>\n",
       "      <td>9780439321620.0</td>\n",
       "      <td>J.K. Rowling</td>\n",
       "      <td>2001.0</td>\n",
       "      <td>NaN</td>\n",
       "      <td>...</td>\n",
       "      <td>10736</td>\n",
       "      <td>11732</td>\n",
       "      <td>185</td>\n",
       "      <td>106</td>\n",
       "      <td>304</td>\n",
       "      <td>1548</td>\n",
       "      <td>2595</td>\n",
       "      <td>7179</td>\n",
       "      <td>https://images.gr-assets.com/books/1479775271m...</td>\n",
       "      <td>https://images.gr-assets.com/books/1479775271s...</td>\n",
       "    </tr>\n",
       "  </tbody>\n",
       "</table>\n",
       "<p>8 rows × 23 columns</p>\n",
       "</div>"
      ],
      "text/plain": [
       "  book_id goodreads_book_id best_book_id   work_id books_count        isbn  \\\n",
       "0     342          13497818     13497818  19926990         139   316228532   \n",
       "1     399           3950967      3950967   3007490         131   747599874   \n",
       "2     422            862041       862041   2962492          76   545044251   \n",
       "3    3753                10           10  21457570           6   439827604   \n",
       "4    4641          30065028     29363501  50435175          49         NaN   \n",
       "5    6141           1317181      1317181  19079807           8  185549664X   \n",
       "6    7523          31538647     31538647  52218770          18         NaN   \n",
       "7    9048              2002         2002   8621948           5  043932162X   \n",
       "\n",
       "            isbn13       authors original_publication_year  \\\n",
       "0  9780316228530.0  J.K. Rowling                    2012.0   \n",
       "1  9780747599880.0  J.K. Rowling                    2007.0   \n",
       "2  9780545044260.0  J.K. Rowling                    1998.0   \n",
       "3  9780439827610.0  J.K. Rowling                    2005.0   \n",
       "4              NaN  J.K. Rowling                    2016.0   \n",
       "5  9781855496640.0  J.K. Rowling                    2003.0   \n",
       "6              NaN  J.K. Rowling                    2016.0   \n",
       "7  9780439321620.0  J.K. Rowling                    2001.0   \n",
       "\n",
       "                                      original_title  ... ratings_count  \\\n",
       "0                                 The Casual Vacancy  ...        231835   \n",
       "1                       The Tales of Beedle the Bard  ...        284833   \n",
       "2                    Complete Harry Potter Boxed Set  ...        190050   \n",
       "3       Harry Potter Collection (Harry Potter, #1-6)  ...         24618   \n",
       "4  Fantastic Beasts and Where to Find Them: The O...  ...         18290   \n",
       "5                                                NaN  ...         16249   \n",
       "6       Hogwarts: An Incomplete and Unreliable Guide  ...         14977   \n",
       "7                                                NaN  ...         10736   \n",
       "\n",
       "  work_ratings_count work_text_reviews_count ratings_1 ratings_2 ratings_3  \\\n",
       "0             254461                   28751     24583     38326     74611   \n",
       "1             319107                   11330      3019     15025     69367   \n",
       "2             204125                    6508      1105      1285      7020   \n",
       "3              26274                     882       203       186       946   \n",
       "4              42210                    4692       323       721      4257   \n",
       "5              16350                     272       114       199      1182   \n",
       "6              15844                    1339        63       346      2806   \n",
       "7              11732                     185       106       304      1548   \n",
       "\n",
       "  ratings_4 ratings_5                                          image_url  \\\n",
       "0     75741     41200  https://images.gr-assets.com/books/1358266832m...   \n",
       "1    103350    128346  https://images.gr-assets.com/books/1373467575m...   \n",
       "2     30666    164049  https://images.gr-assets.com/books/1392579059m...   \n",
       "3      3891     21048  https://images.gr-assets.com/books/1328867351m...   \n",
       "4     13024     23885  https://images.gr-assets.com/books/1476913365m...   \n",
       "5      3744     11111  https://s.gr-assets.com/assets/nophoto/book/11...   \n",
       "6      5543      7086  https://images.gr-assets.com/books/1502156557m...   \n",
       "7      2595      7179  https://images.gr-assets.com/books/1479775271m...   \n",
       "\n",
       "                                     small_image_url  \n",
       "0  https://images.gr-assets.com/books/1358266832s...  \n",
       "1  https://images.gr-assets.com/books/1373467575s...  \n",
       "2  https://images.gr-assets.com/books/1392579059s...  \n",
       "3  https://images.gr-assets.com/books/1328867351s...  \n",
       "4  https://images.gr-assets.com/books/1476913365s...  \n",
       "5  https://s.gr-assets.com/assets/nophoto/book/50...  \n",
       "6  https://images.gr-assets.com/books/1502156557s...  \n",
       "7  https://images.gr-assets.com/books/1479775271s...  \n",
       "\n",
       "[8 rows x 23 columns]"
      ]
     },
     "execution_count": 72,
     "metadata": {},
     "output_type": "execute_result"
    }
   ],
   "source": [
    "Available_books_data = pd.DataFrame(columns=b.columns)\n",
    "\n",
    "author_name = input(\"Enter author name: \").lower()\n",
    "\n",
    "found_author = False\n",
    "for index, row in b.iterrows():\n",
    "    if author_name == row['authors'].lower():\n",
    "        Available_books_data = pd.concat([Available_books_data, row.to_frame().transpose()], ignore_index=True)\n",
    "        found_author = True\n",
    "\n",
    "if not found_author:\n",
    "    print(\"This author's books is  not available.\")\n",
    "else:\n",
    "    Available_books_data.to_csv('my_data.csv', index=False)\n",
    "    \n",
    "Available_books_data"
   ]
  },
  {
   "attachments": {},
   "cell_type": "markdown",
   "metadata": {},
   "source": [
    "Que 4: Trends of how many books published in a year after 2000?"
   ]
  },
  {
   "cell_type": "code",
   "execution_count": 73,
   "metadata": {},
   "outputs": [
    {
     "data": {
      "image/png": "[encoded data removed]",
      "text/plain": [
       "<Figure size 640x480 with 1 Axes>"
      ]
     },
     "metadata": {},
     "output_type": "display_data"
    }
   ],
   "source": [
    "\n",
    "x = b[b['original_publication_year'] > 2000]\n",
    "\n",
    "# group books by publication year and count the number of books published\n",
    "grouped_df = x.groupby('original_publication_year').size().reset_index(name='count')\n",
    "\n",
    "plt.bar(grouped_df['original_publication_year'], grouped_df['count'])\n",
    "plt.title('Number of Books Published per Year')\n",
    "plt.xlabel('Publication Year')\n",
    "plt.ylabel('Number of Books Published')\n",
    "plt.show()\n"
   ]
  },
  {
   "attachments": {},
   "cell_type": "markdown",
   "metadata": {},
   "source": [
    "How does the publication year of books relate to their average rating or number of ratings, and could this be used to inform decisions about when to release new books?"
   ]
  },
  {
   "cell_type": "code",
   "execution_count": 74,
   "metadata": {},
   "outputs": [
    {
     "data": {
      "image/png": "[encoded data removed]",
      "text/plain": [
       "<Figure size 640x480 with 1 Axes>"
      ]
     },
     "metadata": {},
     "output_type": "display_data"
    },
    {
     "data": {
      "image/png": "[encoded data removed]",
      "text/plain": [
       "<Figure size 640x480 with 1 Axes>"
      ]
     },
     "metadata": {},
     "output_type": "display_data"
    }
   ],
   "source": [
    "\n",
    "# let say we only want to include books which was published after 1900\n",
    "b = b[b[\"original_publication_year\"] > 1900]\n",
    "\n",
    "# calculate the average rating for each publication year\n",
    "\n",
    "avg_ratings = b.groupby(\"original_publication_year\")[\"average_rating\"].mean()\n",
    "\n",
    "plt.plot(avg_ratings.index, avg_ratings.values)\n",
    "plt.xlabel(\"Publication Year\")\n",
    "plt.ylabel(\"Average Rating\")\n",
    "plt.title(\"Average Rating of Books Over Time\")\n",
    "plt.show()\n",
    "\n",
    "plt.scatter(b[\"original_publication_year\"], b[\"ratings_count\"], s = 15, c = \"g\")\n",
    "plt.xlabel(\"Publication Year\")\n",
    "plt.ylabel(\"Number of Ratings\")\n",
    "plt.title(\"Number of Ratings by Publication Year\")\n",
    "plt.show()\n"
   ]
  },
  {
   "cell_type": "code",
   "execution_count": 75,
   "metadata": {},
   "outputs": [
    {
     "data": {
      "text/plain": [
       "5976479"
      ]
     },
     "execution_count": 75,
     "metadata": {},
     "output_type": "execute_result"
    }
   ],
   "source": [
    "len(r)"
   ]
  }
 ],
 "metadata": {
  "kernelspec": {
   "display_name": "Python 3",
   "language": "python",
   "name": "python3"
  },
  "language_info": {
   "codemirror_mode": {
    "name": "ipython",
    "version": 3
   },
   "file_extension": ".py",
   "mimetype": "text/x-python",
   "name": "python",
   "nbconvert_exporter": "python",
   "pygments_lexer": "ipython3",
   "version": "3.11.0"
  },
  "orig_nbformat": 4,
  "vscode": {
   "interpreter": {
    "hash": "e450050b432e843bda3c41bf3272c133bfc370a7003f3e377e27f87a49ce1127"
   }
  }
 },
 "nbformat": 4,
 "nbformat_minor": 2
}
